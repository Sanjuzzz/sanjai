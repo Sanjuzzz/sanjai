{
 "cells": [
  {
   "cell_type": "code",
   "execution_count": 1,
   "id": "a61e93e7",
   "metadata": {},
   "outputs": [
    {
     "name": "stdout",
     "output_type": "stream",
     "text": [
      "hello world guys\n"
     ]
    }
   ],
   "source": [
    "x=\"hello world guys\"\n",
    "print(x)\n"
   ]
  },
  {
   "cell_type": "code",
   "execution_count": 8,
   "id": "a748530e",
   "metadata": {},
   "outputs": [],
   "source": [
    "yy=2021\n",
    "mm=9"
   ]
  },
  {
   "cell_type": "code",
   "execution_count": 9,
   "id": "720f311e",
   "metadata": {},
   "outputs": [
    {
     "name": "stdout",
     "output_type": "stream",
     "text": [
      "   September 2021\n",
      "Mo Tu We Th Fr Sa Su\n",
      "       1  2  3  4  5\n",
      " 6  7  8  9 10 11 12\n",
      "13 14 15 16 17 18 19\n",
      "20 21 22 23 24 25 26\n",
      "27 28 29 30\n",
      "\n"
     ]
    }
   ],
   "source": [
    "print(calendar.month(yy,mm))"
   ]
  },
  {
   "cell_type": "code",
   "execution_count": 10,
   "id": "89ad2179",
   "metadata": {},
   "outputs": [
    {
     "name": "stdout",
     "output_type": "stream",
     "text": [
      "Requirement already satisfied: numpy in c:\\users\\sanja\\anaconda3\\lib\\site-packages (1.20.3)\n",
      "Note: you may need to restart the kernel to use updated packages.\n"
     ]
    }
   ],
   "source": [
    "pip install numpy\n"
   ]
  },
  {
   "cell_type": "code",
   "execution_count": 11,
   "id": "81200c71",
   "metadata": {},
   "outputs": [],
   "source": [
    "import numpy"
   ]
  },
  {
   "cell_type": "code",
   "execution_count": 12,
   "id": "3ab89bfe",
   "metadata": {},
   "outputs": [],
   "source": [
    "marks = [56,66,66,5,4,32,23,89,70]"
   ]
  },
  {
   "cell_type": "code",
   "execution_count": 13,
   "id": "566ea15d",
   "metadata": {},
   "outputs": [
    {
     "data": {
      "text/plain": [
       "[56, 66, 66, 5, 4, 32, 23, 89, 70]"
      ]
     },
     "execution_count": 13,
     "metadata": {},
     "output_type": "execute_result"
    }
   ],
   "source": [
    "marks"
   ]
  },
  {
   "cell_type": "code",
   "execution_count": 14,
   "id": "c68de560",
   "metadata": {},
   "outputs": [],
   "source": [
    "average_marks=numpy.mean(marks)"
   ]
  },
  {
   "cell_type": "code",
   "execution_count": 15,
   "id": "cc0a7457",
   "metadata": {},
   "outputs": [
    {
     "data": {
      "text/plain": [
       "45.666666666666664"
      ]
     },
     "execution_count": 15,
     "metadata": {},
     "output_type": "execute_result"
    }
   ],
   "source": [
    "average_marks"
   ]
  },
  {
   "cell_type": "code",
   "execution_count": 16,
   "id": "37636cff",
   "metadata": {},
   "outputs": [
    {
     "data": {
      "text/plain": [
       "56.0"
      ]
     },
     "execution_count": 16,
     "metadata": {},
     "output_type": "execute_result"
    }
   ],
   "source": [
    "median_marks = numpy.median(marks)\n",
    "median_marks"
   ]
  },
  {
   "cell_type": "code",
   "execution_count": 17,
   "id": "2b3819e6",
   "metadata": {},
   "outputs": [
    {
     "data": {
      "text/plain": [
       "411"
      ]
     },
     "execution_count": 17,
     "metadata": {},
     "output_type": "execute_result"
    }
   ],
   "source": [
    "summation = numpy.sum(marks)\n",
    "summation"
   ]
  },
  {
   "cell_type": "code",
   "execution_count": 19,
   "id": "70230ae8",
   "metadata": {},
   "outputs": [],
   "source": [
    "summation = marks"
   ]
  },
  {
   "cell_type": "code",
   "execution_count": 20,
   "id": "c5031f09",
   "metadata": {},
   "outputs": [
    {
     "data": {
      "text/plain": [
       "[56, 66, 66, 5, 4, 32, 23, 89, 70]"
      ]
     },
     "execution_count": 20,
     "metadata": {},
     "output_type": "execute_result"
    }
   ],
   "source": [
    "marks"
   ]
  },
  {
   "cell_type": "code",
   "execution_count": 21,
   "id": "07120dba",
   "metadata": {},
   "outputs": [
    {
     "name": "stdout",
     "output_type": "stream",
     "text": [
      "[56, 66, 66, 5, 4, 32, 23, 89, 70]\n"
     ]
    }
   ],
   "source": [
    "print(summation)"
   ]
  },
  {
   "cell_type": "code",
   "execution_count": null,
   "id": "920746cf",
   "metadata": {},
   "outputs": [],
   "source": []
  }
 ],
 "metadata": {
  "kernelspec": {
   "display_name": "Python 3 (ipykernel)",
   "language": "python",
   "name": "python3"
  },
  "language_info": {
   "codemirror_mode": {
    "name": "ipython",
    "version": 3
   },
   "file_extension": ".py",
   "mimetype": "text/x-python",
   "name": "python",
   "nbconvert_exporter": "python",
   "pygments_lexer": "ipython3",
   "version": "3.9.7"
  }
 },
 "nbformat": 4,
 "nbformat_minor": 5
}
